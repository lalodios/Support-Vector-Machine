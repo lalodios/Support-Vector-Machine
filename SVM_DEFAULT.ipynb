{
  "nbformat": 4,
  "nbformat_minor": 0,
  "metadata": {
    "colab": {
      "provenance": [],
      "collapsed_sections": [],
      "toc_visible": true
    },
    "kernelspec": {
      "name": "python3",
      "display_name": "Python 3"
    },
    "language_info": {
      "name": "python"
    }
  },
  "cells": [
    {
      "cell_type": "code",
      "execution_count": 1,
      "metadata": {
        "colab": {
          "base_uri": "https://localhost:8080/"
        },
        "id": "hcDuuldpVOA_",
        "outputId": "b31cf70d-0e4b-46c8-86e4-f9e5e5651d5a"
      },
      "outputs": [
        {
          "output_type": "stream",
          "name": "stdout",
          "text": [
            "Mounted at /content/grive\n"
          ]
        }
      ],
      "source": [
        "from google.colab import drive\n",
        "drive.mount(\"/content/grive\")"
      ]
    },
    {
      "cell_type": "markdown",
      "source": [
        "#This task is based on the essay which can be found in following link\n",
        "\n",
        "(https://medium.com/@polanitzer/logistic-regression-in-python-predict-the-probability-of-default-of-an-individual-8a0091da3775)"
      ],
      "metadata": {
        "id": "Wo71TF9teHuk"
      }
    },
    {
      "cell_type": "code",
      "source": [
        "import pandas as pd\n",
        "import numpy as np\n",
        "import matplotlib.pyplot as plt\n",
        "import seaborn as sns\n",
        "from sklearn.datasets import make_classification\n",
        "from numpy import sqrt\n",
        "from numpy import argmax\n",
        "from sklearn.datasets import make_classification\n",
        "from matplotlib import pyplot\n",
        "from sklearn import metrics\n",
        "from sklearn.model_selection import StratifiedKFold\n",
        "from sklearn.model_selection import GridSearchCV\n",
        "from sklearn.metrics import roc_auc_score\n",
        "from sklearn.metrics import roc_curve\n",
        "#Import svm model\n",
        "from sklearn import svm\n",
        "from sklearn.metrics import r2_score, explained_variance_score, confusion_matrix, accuracy_score, classification_report, log_loss\n",
        "from sklearn.metrics import precision_score\n",
        "from sklearn.metrics import f1_score\n",
        "from sklearn.metrics import recall_score"
      ],
      "metadata": {
        "id": "-IUm6IcMVTsl"
      },
      "execution_count": 3,
      "outputs": []
    },
    {
      "cell_type": "markdown",
      "source": [
        "y — has the loan applicant defaulted on his loan? (binary: “1”, means “Yes”, “0” means “No”)"
      ],
      "metadata": {
        "id": "k5Kc7eKheirk"
      }
    },
    {
      "cell_type": "code",
      "source": [
        "df=pd.read_excel(\"/content/grive/MyDrive/Bank credit risk LG/Bank Default.xlsx\")"
      ],
      "metadata": {
        "id": "47jZwtBgVXDa"
      },
      "execution_count": 4,
      "outputs": []
    },
    {
      "cell_type": "markdown",
      "source": [
        "We examine if there are any na values"
      ],
      "metadata": {
        "id": "sqsYl9otVpbu"
      }
    },
    {
      "cell_type": "code",
      "source": [
        "df.shape\n",
        "df.head()"
      ],
      "metadata": {
        "id": "yLp2-vnPVtyY"
      },
      "execution_count": null,
      "outputs": []
    },
    {
      "cell_type": "markdown",
      "source": [
        "We dont have any missing values"
      ],
      "metadata": {
        "id": "eOhh-9M7V9UY"
      }
    },
    {
      "cell_type": "code",
      "source": [
        "df.isnull().sum()"
      ],
      "metadata": {
        "id": "Vfl_hf3jV34_"
      },
      "execution_count": null,
      "outputs": []
    },
    {
      "cell_type": "markdown",
      "source": [
        "### 1.2 see the data type"
      ],
      "metadata": {
        "id": "ap5BiNJuWGDe"
      }
    },
    {
      "cell_type": "code",
      "source": [
        "df.dtypes"
      ],
      "metadata": {
        "id": "YSX6iO0pWDqU"
      },
      "execution_count": null,
      "outputs": []
    },
    {
      "cell_type": "markdown",
      "source": [
        "As we can observe from the above table  education is the only variable that is object. We have to turn it in string"
      ],
      "metadata": {
        "id": "Os-RhMXIWdei"
      }
    },
    {
      "cell_type": "code",
      "source": [
        "df[\"education\"] = df[\"education\"].astype(str)"
      ],
      "metadata": {
        "id": "BOQ9VtAYWngm"
      },
      "execution_count": 4,
      "outputs": []
    },
    {
      "cell_type": "markdown",
      "source": [
        "Investigate all the unique values of the variables"
      ],
      "metadata": {
        "id": "o4H2Y7LxXER0"
      }
    },
    {
      "cell_type": "code",
      "source": [
        "\n",
        "for column in df:\n",
        "    try:\n",
        "        unique_vals = np.unique(df[column])\n",
        "    except:\n",
        "        unique_vals = df[column].unique()\n",
        "        \n",
        "    nr_values = len(unique_vals)\n",
        "    if nr_values < 10:\n",
        "        print('The number of values for feature {} :{} -- {}'.format(column, nr_values,unique_vals))\n",
        "    else:\n",
        "        print('The number of values for feature {} :{}'.format(column, nr_values))"
      ],
      "metadata": {
        "id": "1Shv1E1rZQ5p"
      },
      "execution_count": null,
      "outputs": []
    },
    {
      "cell_type": "markdown",
      "source": [
        "#Visuallise the data"
      ],
      "metadata": {
        "id": "1iGdMpWuZu21"
      }
    },
    {
      "cell_type": "code",
      "source": [
        "numeric2=['age','years_with_current_employer','years_at_current_address','household_income','debt_to_income_ratio', 'credit_card_debt','other_debt']"
      ],
      "metadata": {
        "id": "wo27p6AzdF1k"
      },
      "execution_count": null,
      "outputs": []
    },
    {
      "cell_type": "code",
      "source": [
        "# Example 11 - Investigating the outliers\n",
        "\n",
        "# Increases the size of sns plots\n",
        "sns.set(rc={'figure.figsize':(8,5)})\n",
        "\n",
        "for c in numeric2:\n",
        "    print(c)\n",
        "    x = df[c].values\n",
        "    ax = sns.boxplot(x, color = '#D1EC46')\n",
        "    print('The meadian is: ', df[c].median())\n",
        "    plt.title(c)\n",
        "    plt.show()"
      ],
      "metadata": {
        "id": "sp7W2Mejc1ds"
      },
      "execution_count": null,
      "outputs": []
    },
    {
      "cell_type": "code",
      "source": [
        "df[df[\"other_debt\"]>8000].head(20)"
      ],
      "metadata": {
        "id": "Rn5KTcqUeAKL"
      },
      "execution_count": null,
      "outputs": []
    },
    {
      "cell_type": "markdown",
      "source": [
        "#As we can see from the boxplots 3 variables have outliers.\n",
        "1.  House hold income\n",
        "2.  credit_card_debt\n",
        "3.  other_debt"
      ],
      "metadata": {
        "id": "SNMRkcvNdlum"
      }
    },
    {
      "cell_type": "code",
      "source": [
        "df[\"years_with_current_employer\"]\n",
        "df[\"credit_card_debt\"]"
      ],
      "metadata": {
        "id": "qJm-TGhZcgSc"
      },
      "execution_count": null,
      "outputs": []
    },
    {
      "cell_type": "code",
      "source": [
        "# Example 8 - Investigating the distribution \n",
        "# Increases the size of sns plots\n",
        "sns.set(rc={'figure.figsize':(8,5)})\n",
        "\n",
        "numeric2 = [ 'age','years_with_current_employer','credit_card_debt', 'debt_to_income_ratio', 'household_income']\n",
        "for n in numeric2:\n",
        "    x = df[n].values\n",
        "    sns.distplot(x, color = 'blue');\n",
        "\n",
        "    # Calculating the mean\n",
        "    mean = df[n].mean()\n",
        "\n",
        "    #ploting the mean\n",
        "    plt.axvline(mean, 0,1, color = 'red')\n",
        "    plt.title(n)\n",
        "    plt.show()"
      ],
      "metadata": {
        "id": "Na2fz4Ibbfcn"
      },
      "execution_count": null,
      "outputs": []
    },
    {
      "cell_type": "code",
      "source": [
        "sns.kdeplot( df[\"household_income\"].loc[df[\"y\"] == 0], hue=df[\"y\"], shade=True)\n",
        "sns.kdeplot( df[\"household_income\"].loc[df[\"y\"] == 1], hue=df[\"y\"], shade=True)"
      ],
      "metadata": {
        "id": "p5g4kl2efYYQ"
      },
      "execution_count": null,
      "outputs": []
    },
    {
      "cell_type": "code",
      "source": [
        "sns.kdeplot( df[\"other_debt\"].loc[df[\"y\"] == 0], hue=df[\"y\"], shade=True)\n",
        "sns.kdeplot( df[\"other_debt\"].loc[df[\"y\"] == 1], hue=df[\"y\"], shade=True)"
      ],
      "metadata": {
        "id": "PcHlrvp6fvH8"
      },
      "execution_count": null,
      "outputs": []
    },
    {
      "cell_type": "code",
      "source": [
        "sns.kdeplot( df[\"debt_to_income_ratio\"].loc[df[\"y\"] == 0], hue=df[\"y\"], shade=True)\n",
        "sns.kdeplot( df[\"debt_to_income_ratio\"].loc[df[\"y\"] == 1], hue=df[\"y\"], shade=True)"
      ],
      "metadata": {
        "id": "LNsvXU7fge2e"
      },
      "execution_count": null,
      "outputs": []
    },
    {
      "cell_type": "code",
      "source": [
        "df.columns"
      ],
      "metadata": {
        "colab": {
          "base_uri": "https://localhost:8080/"
        },
        "id": "yfCfh3zBZ86_",
        "outputId": "118cc63b-45f7-41c9-bea7-54cca62e56e9"
      },
      "execution_count": null,
      "outputs": [
        {
          "output_type": "execute_result",
          "data": {
            "text/plain": [
              "Index(['loan_applicant_id', 'age', 'education', 'years_with_current_employer',\n",
              "       'years_at_current_address', 'household_income', 'debt_to_income_ratio',\n",
              "       'credit_card_debt', 'other_debt', 'y'],\n",
              "      dtype='object')"
            ]
          },
          "metadata": {},
          "execution_count": 21
        }
      ]
    },
    {
      "cell_type": "code",
      "source": [
        "#sns.pairplot(df.loc[:,df.columns!=\"education\"], hue = 'y')"
      ],
      "metadata": {
        "id": "m0EVZm_iYg3p"
      },
      "execution_count": null,
      "outputs": []
    },
    {
      "cell_type": "code",
      "source": [
        "table=pd.crosstab(df.education,df.y)\n",
        "table.div(table.sum(1).astype(float), axis=0).plot(kind=\"bar\", stacked=True)\n",
        "plt.title(\"Stacked Bar Chart of Education vs Default\")\n",
        "plt.xlabel(\"Education\")\n",
        "plt.ylabel(\"Proportion of Applicants\")\n",
        "plt.savefig(\"education_vs_def_stack\")"
      ],
      "metadata": {
        "id": "JZohCzR8hBL8"
      },
      "execution_count": null,
      "outputs": []
    },
    {
      "cell_type": "markdown",
      "source": [
        "we cannot see a lot of results."
      ],
      "metadata": {
        "id": "P4NI7bf8afYO"
      }
    },
    {
      "cell_type": "markdown",
      "source": [
        "#Data preparation"
      ],
      "metadata": {
        "id": "W43uT3kghNbk"
      }
    },
    {
      "cell_type": "markdown",
      "source": [
        "Since we have imbalanced data we have to use smote algorithm"
      ],
      "metadata": {
        "id": "uqmYm8YBhdlk"
      }
    },
    {
      "cell_type": "code",
      "source": [
        "from imblearn.over_sampling import SMOTE\n",
        "from sklearn.model_selection import train_test_split\n",
        "from sklearn.metrics import r2_score, explained_variance_score, confusion_matrix, accuracy_score, classification_report, log_loss"
      ],
      "metadata": {
        "id": "R8u1HbMOai6i"
      },
      "execution_count": 5,
      "outputs": []
    },
    {
      "cell_type": "markdown",
      "source": [
        "All the variable have to be numerical"
      ],
      "metadata": {
        "id": "mnWBqDdch8cr"
      }
    },
    {
      "cell_type": "code",
      "source": [
        "df[\"education\"]=pd.factorize(df[\"education\"])[0]"
      ],
      "metadata": {
        "id": "fIPg4H_Qh1qc"
      },
      "execution_count": 6,
      "outputs": []
    },
    {
      "cell_type": "code",
      "source": [
        "X=df.loc[:,(df.columns != \"y\") & (df.columns !=\"loan_applicant_id\")]\n",
        "y=df[\"y\"]\n",
        "X"
      ],
      "metadata": {
        "colab": {
          "base_uri": "https://localhost:8080/",
          "height": 424
        },
        "id": "WCu0-x7jhiiC",
        "outputId": "fb9fb81a-2bce-484f-f8f4-278c658b04d3"
      },
      "execution_count": 7,
      "outputs": [
        {
          "output_type": "execute_result",
          "data": {
            "text/plain": [
              "       age  education  years_with_current_employer  years_at_current_address  \\\n",
              "0       44          0                           10                        20   \n",
              "1       34          1                            3                        18   \n",
              "2       45          0                           14                        24   \n",
              "3       33          2                           12                         5   \n",
              "4       20          3                            4                        19   \n",
              "...    ...        ...                          ...                       ...   \n",
              "41183   49          1                            4                         4   \n",
              "41184   52          4                           13                        16   \n",
              "41185   42          0                           18                        15   \n",
              "41186   21          0                           12                        24   \n",
              "41187   56          1                           25                         1   \n",
              "\n",
              "       household_income  debt_to_income_ratio  credit_card_debt    other_debt  \n",
              "0                   192          1.211664e+09      1.437731e+09  8.886645e+09  \n",
              "1                    57          1.426423e+09      5.137880e+09  2.992730e+09  \n",
              "2                   212          7.285681e+09      1.046031e+09  4.985339e+09  \n",
              "3                   418          1.138627e+09      3.040189e+09  4.455443e+09  \n",
              "4                   122          2.841849e+09      1.456045e+09  2.011011e+08  \n",
              "...                 ...                   ...               ...           ...  \n",
              "41183               114          1.229614e+09      4.868954e+09  9.148643e+09  \n",
              "41184               178          2.142134e+09      2.321063e+09  1.491935e+09  \n",
              "41185               264          9.821804e+09      1.229046e+09  1.363910e+09  \n",
              "41186                56          2.399865e+09      8.108453e+09  5.330789e+09  \n",
              "41187               240          2.872225e+09      3.562075e+09  3.331265e+09  \n",
              "\n",
              "[41188 rows x 8 columns]"
            ],
            "text/html": [
              "\n",
              "  <div id=\"df-877ffa69-665e-4ccc-bf50-8b8f9de6ce33\">\n",
              "    <div class=\"colab-df-container\">\n",
              "      <div>\n",
              "<style scoped>\n",
              "    .dataframe tbody tr th:only-of-type {\n",
              "        vertical-align: middle;\n",
              "    }\n",
              "\n",
              "    .dataframe tbody tr th {\n",
              "        vertical-align: top;\n",
              "    }\n",
              "\n",
              "    .dataframe thead th {\n",
              "        text-align: right;\n",
              "    }\n",
              "</style>\n",
              "<table border=\"1\" class=\"dataframe\">\n",
              "  <thead>\n",
              "    <tr style=\"text-align: right;\">\n",
              "      <th></th>\n",
              "      <th>age</th>\n",
              "      <th>education</th>\n",
              "      <th>years_with_current_employer</th>\n",
              "      <th>years_at_current_address</th>\n",
              "      <th>household_income</th>\n",
              "      <th>debt_to_income_ratio</th>\n",
              "      <th>credit_card_debt</th>\n",
              "      <th>other_debt</th>\n",
              "    </tr>\n",
              "  </thead>\n",
              "  <tbody>\n",
              "    <tr>\n",
              "      <th>0</th>\n",
              "      <td>44</td>\n",
              "      <td>0</td>\n",
              "      <td>10</td>\n",
              "      <td>20</td>\n",
              "      <td>192</td>\n",
              "      <td>1.211664e+09</td>\n",
              "      <td>1.437731e+09</td>\n",
              "      <td>8.886645e+09</td>\n",
              "    </tr>\n",
              "    <tr>\n",
              "      <th>1</th>\n",
              "      <td>34</td>\n",
              "      <td>1</td>\n",
              "      <td>3</td>\n",
              "      <td>18</td>\n",
              "      <td>57</td>\n",
              "      <td>1.426423e+09</td>\n",
              "      <td>5.137880e+09</td>\n",
              "      <td>2.992730e+09</td>\n",
              "    </tr>\n",
              "    <tr>\n",
              "      <th>2</th>\n",
              "      <td>45</td>\n",
              "      <td>0</td>\n",
              "      <td>14</td>\n",
              "      <td>24</td>\n",
              "      <td>212</td>\n",
              "      <td>7.285681e+09</td>\n",
              "      <td>1.046031e+09</td>\n",
              "      <td>4.985339e+09</td>\n",
              "    </tr>\n",
              "    <tr>\n",
              "      <th>3</th>\n",
              "      <td>33</td>\n",
              "      <td>2</td>\n",
              "      <td>12</td>\n",
              "      <td>5</td>\n",
              "      <td>418</td>\n",
              "      <td>1.138627e+09</td>\n",
              "      <td>3.040189e+09</td>\n",
              "      <td>4.455443e+09</td>\n",
              "    </tr>\n",
              "    <tr>\n",
              "      <th>4</th>\n",
              "      <td>20</td>\n",
              "      <td>3</td>\n",
              "      <td>4</td>\n",
              "      <td>19</td>\n",
              "      <td>122</td>\n",
              "      <td>2.841849e+09</td>\n",
              "      <td>1.456045e+09</td>\n",
              "      <td>2.011011e+08</td>\n",
              "    </tr>\n",
              "    <tr>\n",
              "      <th>...</th>\n",
              "      <td>...</td>\n",
              "      <td>...</td>\n",
              "      <td>...</td>\n",
              "      <td>...</td>\n",
              "      <td>...</td>\n",
              "      <td>...</td>\n",
              "      <td>...</td>\n",
              "      <td>...</td>\n",
              "    </tr>\n",
              "    <tr>\n",
              "      <th>41183</th>\n",
              "      <td>49</td>\n",
              "      <td>1</td>\n",
              "      <td>4</td>\n",
              "      <td>4</td>\n",
              "      <td>114</td>\n",
              "      <td>1.229614e+09</td>\n",
              "      <td>4.868954e+09</td>\n",
              "      <td>9.148643e+09</td>\n",
              "    </tr>\n",
              "    <tr>\n",
              "      <th>41184</th>\n",
              "      <td>52</td>\n",
              "      <td>4</td>\n",
              "      <td>13</td>\n",
              "      <td>16</td>\n",
              "      <td>178</td>\n",
              "      <td>2.142134e+09</td>\n",
              "      <td>2.321063e+09</td>\n",
              "      <td>1.491935e+09</td>\n",
              "    </tr>\n",
              "    <tr>\n",
              "      <th>41185</th>\n",
              "      <td>42</td>\n",
              "      <td>0</td>\n",
              "      <td>18</td>\n",
              "      <td>15</td>\n",
              "      <td>264</td>\n",
              "      <td>9.821804e+09</td>\n",
              "      <td>1.229046e+09</td>\n",
              "      <td>1.363910e+09</td>\n",
              "    </tr>\n",
              "    <tr>\n",
              "      <th>41186</th>\n",
              "      <td>21</td>\n",
              "      <td>0</td>\n",
              "      <td>12</td>\n",
              "      <td>24</td>\n",
              "      <td>56</td>\n",
              "      <td>2.399865e+09</td>\n",
              "      <td>8.108453e+09</td>\n",
              "      <td>5.330789e+09</td>\n",
              "    </tr>\n",
              "    <tr>\n",
              "      <th>41187</th>\n",
              "      <td>56</td>\n",
              "      <td>1</td>\n",
              "      <td>25</td>\n",
              "      <td>1</td>\n",
              "      <td>240</td>\n",
              "      <td>2.872225e+09</td>\n",
              "      <td>3.562075e+09</td>\n",
              "      <td>3.331265e+09</td>\n",
              "    </tr>\n",
              "  </tbody>\n",
              "</table>\n",
              "<p>41188 rows × 8 columns</p>\n",
              "</div>\n",
              "      <button class=\"colab-df-convert\" onclick=\"convertToInteractive('df-877ffa69-665e-4ccc-bf50-8b8f9de6ce33')\"\n",
              "              title=\"Convert this dataframe to an interactive table.\"\n",
              "              style=\"display:none;\">\n",
              "        \n",
              "  <svg xmlns=\"http://www.w3.org/2000/svg\" height=\"24px\"viewBox=\"0 0 24 24\"\n",
              "       width=\"24px\">\n",
              "    <path d=\"M0 0h24v24H0V0z\" fill=\"none\"/>\n",
              "    <path d=\"M18.56 5.44l.94 2.06.94-2.06 2.06-.94-2.06-.94-.94-2.06-.94 2.06-2.06.94zm-11 1L8.5 8.5l.94-2.06 2.06-.94-2.06-.94L8.5 2.5l-.94 2.06-2.06.94zm10 10l.94 2.06.94-2.06 2.06-.94-2.06-.94-.94-2.06-.94 2.06-2.06.94z\"/><path d=\"M17.41 7.96l-1.37-1.37c-.4-.4-.92-.59-1.43-.59-.52 0-1.04.2-1.43.59L10.3 9.45l-7.72 7.72c-.78.78-.78 2.05 0 2.83L4 21.41c.39.39.9.59 1.41.59.51 0 1.02-.2 1.41-.59l7.78-7.78 2.81-2.81c.8-.78.8-2.07 0-2.86zM5.41 20L4 18.59l7.72-7.72 1.47 1.35L5.41 20z\"/>\n",
              "  </svg>\n",
              "      </button>\n",
              "      \n",
              "  <style>\n",
              "    .colab-df-container {\n",
              "      display:flex;\n",
              "      flex-wrap:wrap;\n",
              "      gap: 12px;\n",
              "    }\n",
              "\n",
              "    .colab-df-convert {\n",
              "      background-color: #E8F0FE;\n",
              "      border: none;\n",
              "      border-radius: 50%;\n",
              "      cursor: pointer;\n",
              "      display: none;\n",
              "      fill: #1967D2;\n",
              "      height: 32px;\n",
              "      padding: 0 0 0 0;\n",
              "      width: 32px;\n",
              "    }\n",
              "\n",
              "    .colab-df-convert:hover {\n",
              "      background-color: #E2EBFA;\n",
              "      box-shadow: 0px 1px 2px rgba(60, 64, 67, 0.3), 0px 1px 3px 1px rgba(60, 64, 67, 0.15);\n",
              "      fill: #174EA6;\n",
              "    }\n",
              "\n",
              "    [theme=dark] .colab-df-convert {\n",
              "      background-color: #3B4455;\n",
              "      fill: #D2E3FC;\n",
              "    }\n",
              "\n",
              "    [theme=dark] .colab-df-convert:hover {\n",
              "      background-color: #434B5C;\n",
              "      box-shadow: 0px 1px 3px 1px rgba(0, 0, 0, 0.15);\n",
              "      filter: drop-shadow(0px 1px 2px rgba(0, 0, 0, 0.3));\n",
              "      fill: #FFFFFF;\n",
              "    }\n",
              "  </style>\n",
              "\n",
              "      <script>\n",
              "        const buttonEl =\n",
              "          document.querySelector('#df-877ffa69-665e-4ccc-bf50-8b8f9de6ce33 button.colab-df-convert');\n",
              "        buttonEl.style.display =\n",
              "          google.colab.kernel.accessAllowed ? 'block' : 'none';\n",
              "\n",
              "        async function convertToInteractive(key) {\n",
              "          const element = document.querySelector('#df-877ffa69-665e-4ccc-bf50-8b8f9de6ce33');\n",
              "          const dataTable =\n",
              "            await google.colab.kernel.invokeFunction('convertToInteractive',\n",
              "                                                     [key], {});\n",
              "          if (!dataTable) return;\n",
              "\n",
              "          const docLinkHtml = 'Like what you see? Visit the ' +\n",
              "            '<a target=\"_blank\" href=https://colab.research.google.com/notebooks/data_table.ipynb>data table notebook</a>'\n",
              "            + ' to learn more about interactive tables.';\n",
              "          element.innerHTML = '';\n",
              "          dataTable['output_type'] = 'display_data';\n",
              "          await google.colab.output.renderOutput(dataTable, element);\n",
              "          const docLink = document.createElement('div');\n",
              "          docLink.innerHTML = docLinkHtml;\n",
              "          element.appendChild(docLink);\n",
              "        }\n",
              "      </script>\n",
              "    </div>\n",
              "  </div>\n",
              "  "
            ]
          },
          "metadata": {},
          "execution_count": 7
        }
      ]
    },
    {
      "cell_type": "markdown",
      "source": [
        "Smote algorithm to have balanced data"
      ],
      "metadata": {
        "id": "xnm5fX6qh_vW"
      }
    },
    {
      "cell_type": "code",
      "source": [
        "X_train, X_test, Y_train, Y_test=train_test_split(X,y,test_size=0.2,random_state=42)\n",
        "smote=SMOTE()\n",
        "smote_X, smote_Y=smote.fit_resample(X_train,Y_train)"
      ],
      "metadata": {
        "id": "iDvUZLIwhmq9"
      },
      "execution_count": 8,
      "outputs": []
    },
    {
      "cell_type": "code",
      "source": [
        "smote_X=pd.DataFrame(smote_X,columns=X.columns)\n",
        "smote_X\n",
        "smote_Y=pd.DataFrame(data=smote_Y)\n",
        "#columns=[\"Y\"]\n",
        "#smote_Y"
      ],
      "metadata": {
        "id": "axXB_IjZhqIM"
      },
      "execution_count": 9,
      "outputs": []
    },
    {
      "cell_type": "code",
      "source": [
        "#Scale data before we use machine learning algorithm"
      ],
      "metadata": {
        "id": "-cgadUJ8iDRU"
      },
      "execution_count": null,
      "outputs": []
    },
    {
      "cell_type": "code",
      "source": [
        "#Feature scaling\n",
        "from sklearn.preprocessing import StandardScaler\n",
        "scale=StandardScaler()\n",
        "X_train = scale.fit_transform(smote_X)\n",
        "Y_train=smote_Y\n",
        "X_test = scale.transform(X_test)"
      ],
      "metadata": {
        "id": "Smq6GQ9jiG34"
      },
      "execution_count": 10,
      "outputs": []
    },
    {
      "cell_type": "markdown",
      "source": [
        "Feature Importance\n",
        "Steps of Running Feature Importance\n",
        "\n",
        "1. Split the data into X & y\n",
        "\n",
        "2. Run a Tree-based estimators (i.e. decision trees & random forests)\n",
        "\n",
        "3. Run Feature Importance\n",
        "\n",
        "*We measure the importance of a feature by calculating the increase in the model’s prediction error after permuting the feature\n",
        "\n",
        "More info: https://christophm.github.io/interpretable-ml-book/feature-importance.html"
      ],
      "metadata": {
        "id": "vPvdrEoPiuyU"
      }
    },
    {
      "cell_type": "code",
      "source": [
        "from sklearn.tree import DecisionTreeClassifier\n",
        "# Run a Tree-based estimators (i.e. decision trees & random forests)\n",
        "dt = DecisionTreeClassifier(random_state=15, criterion  = 'entropy', max_depth = 10)\n",
        "dt.fit(X_train,Y_train)"
      ],
      "metadata": {
        "colab": {
          "base_uri": "https://localhost:8080/"
        },
        "id": "dlaSmSP1i54d",
        "outputId": "f0261ef4-e8a3-4b05-a80e-7c4632bb55f7"
      },
      "execution_count": 11,
      "outputs": [
        {
          "output_type": "execute_result",
          "data": {
            "text/plain": [
              "DecisionTreeClassifier(criterion='entropy', max_depth=10, random_state=15)"
            ]
          },
          "metadata": {},
          "execution_count": 11
        }
      ]
    },
    {
      "cell_type": "code",
      "source": [
        "X.columns"
      ],
      "metadata": {
        "id": "igDf0cEdlNF8"
      },
      "execution_count": null,
      "outputs": []
    },
    {
      "cell_type": "code",
      "source": [
        "X_columns=['age', 'education', 'years_with_current_employer','years_at_current_address', 'household_income', 'debt_to_income_ratio','credit_card_debt', 'other_debt']"
      ],
      "metadata": {
        "id": "trjfeb4ylmV3"
      },
      "execution_count": null,
      "outputs": []
    },
    {
      "cell_type": "code",
      "source": [
        "#X_columns\n",
        "# Calculating FI\n",
        "for i, column in enumerate(X.columns):\n",
        "    print('Importance of feature {}:, {:.3f}'.format(column, dt.feature_importances_[i]))\n",
        "    \n",
        "    fi = pd.DataFrame({'Variable': [column], 'Feature Importance Score': [dt.feature_importances_[i]]})\n",
        "    \n",
        "    try:\n",
        "        final_fi = pd.concat([final_fi,fi], ignore_index = True)\n",
        "    except:\n",
        "        final_fi = fi"
      ],
      "metadata": {
        "colab": {
          "base_uri": "https://localhost:8080/"
        },
        "id": "YnxLek1EjZsW",
        "outputId": "55593ae3-7191-4e85-fc56-9c8d9da882e9"
      },
      "execution_count": 12,
      "outputs": [
        {
          "output_type": "stream",
          "name": "stdout",
          "text": [
            "Importance of feature age:, 0.051\n",
            "Importance of feature education:, 0.032\n",
            "Importance of feature years_with_current_employer:, 0.011\n",
            "Importance of feature years_at_current_address:, 0.062\n",
            "Importance of feature household_income:, 0.595\n",
            "Importance of feature debt_to_income_ratio:, 0.156\n",
            "Importance of feature credit_card_debt:, 0.071\n",
            "Importance of feature other_debt:, 0.022\n"
          ]
        }
      ]
    },
    {
      "cell_type": "code",
      "source": [
        "final_fi.sort_values(by=\"Feature Importance Score\",ascending=False)"
      ],
      "metadata": {
        "colab": {
          "base_uri": "https://localhost:8080/",
          "height": 301
        },
        "id": "lmYsAjaQmYcN",
        "outputId": "4eb012a1-0bbc-40cf-f11b-141c4a9d704e"
      },
      "execution_count": 16,
      "outputs": [
        {
          "output_type": "execute_result",
          "data": {
            "text/plain": [
              "                      Variable  Feature Importance Score\n",
              "4             household_income                  0.594895\n",
              "5         debt_to_income_ratio                  0.155904\n",
              "6             credit_card_debt                  0.071349\n",
              "3     years_at_current_address                  0.062012\n",
              "0                          age                  0.050605\n",
              "1                    education                  0.032434\n",
              "7                   other_debt                  0.021674\n",
              "2  years_with_current_employer                  0.011128"
            ],
            "text/html": [
              "\n",
              "  <div id=\"df-6f5fecc4-ede2-4d06-8d9c-07139a479889\">\n",
              "    <div class=\"colab-df-container\">\n",
              "      <div>\n",
              "<style scoped>\n",
              "    .dataframe tbody tr th:only-of-type {\n",
              "        vertical-align: middle;\n",
              "    }\n",
              "\n",
              "    .dataframe tbody tr th {\n",
              "        vertical-align: top;\n",
              "    }\n",
              "\n",
              "    .dataframe thead th {\n",
              "        text-align: right;\n",
              "    }\n",
              "</style>\n",
              "<table border=\"1\" class=\"dataframe\">\n",
              "  <thead>\n",
              "    <tr style=\"text-align: right;\">\n",
              "      <th></th>\n",
              "      <th>Variable</th>\n",
              "      <th>Feature Importance Score</th>\n",
              "    </tr>\n",
              "  </thead>\n",
              "  <tbody>\n",
              "    <tr>\n",
              "      <th>4</th>\n",
              "      <td>household_income</td>\n",
              "      <td>0.594895</td>\n",
              "    </tr>\n",
              "    <tr>\n",
              "      <th>5</th>\n",
              "      <td>debt_to_income_ratio</td>\n",
              "      <td>0.155904</td>\n",
              "    </tr>\n",
              "    <tr>\n",
              "      <th>6</th>\n",
              "      <td>credit_card_debt</td>\n",
              "      <td>0.071349</td>\n",
              "    </tr>\n",
              "    <tr>\n",
              "      <th>3</th>\n",
              "      <td>years_at_current_address</td>\n",
              "      <td>0.062012</td>\n",
              "    </tr>\n",
              "    <tr>\n",
              "      <th>0</th>\n",
              "      <td>age</td>\n",
              "      <td>0.050605</td>\n",
              "    </tr>\n",
              "    <tr>\n",
              "      <th>1</th>\n",
              "      <td>education</td>\n",
              "      <td>0.032434</td>\n",
              "    </tr>\n",
              "    <tr>\n",
              "      <th>7</th>\n",
              "      <td>other_debt</td>\n",
              "      <td>0.021674</td>\n",
              "    </tr>\n",
              "    <tr>\n",
              "      <th>2</th>\n",
              "      <td>years_with_current_employer</td>\n",
              "      <td>0.011128</td>\n",
              "    </tr>\n",
              "  </tbody>\n",
              "</table>\n",
              "</div>\n",
              "      <button class=\"colab-df-convert\" onclick=\"convertToInteractive('df-6f5fecc4-ede2-4d06-8d9c-07139a479889')\"\n",
              "              title=\"Convert this dataframe to an interactive table.\"\n",
              "              style=\"display:none;\">\n",
              "        \n",
              "  <svg xmlns=\"http://www.w3.org/2000/svg\" height=\"24px\"viewBox=\"0 0 24 24\"\n",
              "       width=\"24px\">\n",
              "    <path d=\"M0 0h24v24H0V0z\" fill=\"none\"/>\n",
              "    <path d=\"M18.56 5.44l.94 2.06.94-2.06 2.06-.94-2.06-.94-.94-2.06-.94 2.06-2.06.94zm-11 1L8.5 8.5l.94-2.06 2.06-.94-2.06-.94L8.5 2.5l-.94 2.06-2.06.94zm10 10l.94 2.06.94-2.06 2.06-.94-2.06-.94-.94-2.06-.94 2.06-2.06.94z\"/><path d=\"M17.41 7.96l-1.37-1.37c-.4-.4-.92-.59-1.43-.59-.52 0-1.04.2-1.43.59L10.3 9.45l-7.72 7.72c-.78.78-.78 2.05 0 2.83L4 21.41c.39.39.9.59 1.41.59.51 0 1.02-.2 1.41-.59l7.78-7.78 2.81-2.81c.8-.78.8-2.07 0-2.86zM5.41 20L4 18.59l7.72-7.72 1.47 1.35L5.41 20z\"/>\n",
              "  </svg>\n",
              "      </button>\n",
              "      \n",
              "  <style>\n",
              "    .colab-df-container {\n",
              "      display:flex;\n",
              "      flex-wrap:wrap;\n",
              "      gap: 12px;\n",
              "    }\n",
              "\n",
              "    .colab-df-convert {\n",
              "      background-color: #E8F0FE;\n",
              "      border: none;\n",
              "      border-radius: 50%;\n",
              "      cursor: pointer;\n",
              "      display: none;\n",
              "      fill: #1967D2;\n",
              "      height: 32px;\n",
              "      padding: 0 0 0 0;\n",
              "      width: 32px;\n",
              "    }\n",
              "\n",
              "    .colab-df-convert:hover {\n",
              "      background-color: #E2EBFA;\n",
              "      box-shadow: 0px 1px 2px rgba(60, 64, 67, 0.3), 0px 1px 3px 1px rgba(60, 64, 67, 0.15);\n",
              "      fill: #174EA6;\n",
              "    }\n",
              "\n",
              "    [theme=dark] .colab-df-convert {\n",
              "      background-color: #3B4455;\n",
              "      fill: #D2E3FC;\n",
              "    }\n",
              "\n",
              "    [theme=dark] .colab-df-convert:hover {\n",
              "      background-color: #434B5C;\n",
              "      box-shadow: 0px 1px 3px 1px rgba(0, 0, 0, 0.15);\n",
              "      filter: drop-shadow(0px 1px 2px rgba(0, 0, 0, 0.3));\n",
              "      fill: #FFFFFF;\n",
              "    }\n",
              "  </style>\n",
              "\n",
              "      <script>\n",
              "        const buttonEl =\n",
              "          document.querySelector('#df-6f5fecc4-ede2-4d06-8d9c-07139a479889 button.colab-df-convert');\n",
              "        buttonEl.style.display =\n",
              "          google.colab.kernel.accessAllowed ? 'block' : 'none';\n",
              "\n",
              "        async function convertToInteractive(key) {\n",
              "          const element = document.querySelector('#df-6f5fecc4-ede2-4d06-8d9c-07139a479889');\n",
              "          const dataTable =\n",
              "            await google.colab.kernel.invokeFunction('convertToInteractive',\n",
              "                                                     [key], {});\n",
              "          if (!dataTable) return;\n",
              "\n",
              "          const docLinkHtml = 'Like what you see? Visit the ' +\n",
              "            '<a target=\"_blank\" href=https://colab.research.google.com/notebooks/data_table.ipynb>data table notebook</a>'\n",
              "            + ' to learn more about interactive tables.';\n",
              "          element.innerHTML = '';\n",
              "          dataTable['output_type'] = 'display_data';\n",
              "          await google.colab.output.renderOutput(dataTable, element);\n",
              "          const docLink = document.createElement('div');\n",
              "          docLink.innerHTML = docLinkHtml;\n",
              "          element.appendChild(docLink);\n",
              "        }\n",
              "      </script>\n",
              "    </div>\n",
              "  </div>\n",
              "  "
            ]
          },
          "metadata": {},
          "execution_count": 16
        }
      ]
    },
    {
      "cell_type": "markdown",
      "source": [
        "1. 'years_at_current_address', \n",
        "2. 'household_income'\n",
        "3. debt_to_income_ratio\n",
        "4. 'credit_card_debt'\n",
        "5. 'age'"
      ],
      "metadata": {
        "id": "1cpKBQl-ruEs"
      }
    },
    {
      "cell_type": "markdown",
      "source": [
        "the scores simply represent the “importance” of each feature. A higher score means that the specific feature will have a larger effect on the model that is being used to predict a certain variable"
      ],
      "metadata": {
        "id": "kc8ZTqIUpLvc"
      }
    },
    {
      "cell_type": "markdown",
      "source": [
        "we keep feautures with importance above 0.05"
      ],
      "metadata": {
        "id": "EXh6kd8CrswN"
      }
    },
    {
      "cell_type": "code",
      "source": [
        "# Ordering the data\n",
        "#final_fi = final_fi.sort_values('Feature Importance Score', ascending = False).reset_index()            \n",
        "#final_fi"
      ],
      "metadata": {
        "id": "_F5nagOYi9bN"
      },
      "execution_count": null,
      "outputs": []
    },
    {
      "cell_type": "markdown",
      "source": [
        "#10. Training & Running the classification model"
      ],
      "metadata": {
        "id": "jxVusEjuto4F"
      }
    },
    {
      "cell_type": "markdown",
      "source": [
        "So we take only the 5 more significant variables to train our model."
      ],
      "metadata": {
        "id": "OfkbN9TIsIfC"
      }
    },
    {
      "cell_type": "code",
      "source": [
        "X_train"
      ],
      "metadata": {
        "id": "vsL26l9BsQj7"
      },
      "execution_count": null,
      "outputs": []
    },
    {
      "cell_type": "code",
      "source": [
        "from sklearn import svm\n",
        "#clf=svm.SVC()\n",
        "clf=SVC()\n",
        "clf.fit(X_train, Y_train)"
      ],
      "metadata": {
        "colab": {
          "base_uri": "https://localhost:8080/"
        },
        "id": "NRWcG0D-t5sE",
        "outputId": "b9eab009-4896-4cd4-a73b-42d5ce73c3cf"
      },
      "execution_count": 13,
      "outputs": [
        {
          "output_type": "stream",
          "name": "stderr",
          "text": [
            "/usr/local/lib/python3.7/dist-packages/sklearn/utils/validation.py:993: DataConversionWarning: A column-vector y was passed when a 1d array was expected. Please change the shape of y to (n_samples, ), for example using ravel().\n",
            "  y = column_or_1d(y, warn=True)\n"
          ]
        },
        {
          "output_type": "execute_result",
          "data": {
            "text/plain": [
              "SVC()"
            ]
          },
          "metadata": {},
          "execution_count": 13
        }
      ]
    },
    {
      "cell_type": "code",
      "source": [
        "y_pred=clf.predict(X_test)"
      ],
      "metadata": {
        "id": "dfDD1iYxu6dF"
      },
      "execution_count": 14,
      "outputs": []
    },
    {
      "cell_type": "code",
      "source": [
        "print(\"Accuracy:\",metrics.accuracy_score(Y_test,y_pred))\n",
        "print(classification_report(Y_test,y_pred))"
      ],
      "metadata": {
        "colab": {
          "base_uri": "https://localhost:8080/"
        },
        "id": "Ek5wW6MHvJjZ",
        "outputId": "78780bd6-8d14-4ac1-cce3-163d117f4aaa"
      },
      "execution_count": 15,
      "outputs": [
        {
          "output_type": "stream",
          "name": "stdout",
          "text": [
            "Accuracy: 0.8306627822286963\n",
            "              precision    recall  f1-score   support\n",
            "\n",
            "           0       0.94      0.86      0.90      7317\n",
            "           1       0.35      0.60      0.44       921\n",
            "\n",
            "    accuracy                           0.83      8238\n",
            "   macro avg       0.65      0.73      0.67      8238\n",
            "weighted avg       0.88      0.83      0.85      8238\n",
            "\n"
          ]
        }
      ]
    },
    {
      "cell_type": "code",
      "source": [
        "#Y_pred_prob=clf.predict_proba(X_test)[:,1]     we had to train our model with probability = true"
      ],
      "metadata": {
        "id": "nSLNe2l-vjqE"
      },
      "execution_count": null,
      "outputs": []
    },
    {
      "cell_type": "code",
      "source": [
        "from sklearn.metrics import precision_score\n",
        "from sklearn.metrics import f1_score\n",
        "from sklearn.metrics import recall_score\n",
        "precision_score(Y_test,y_pred)\n",
        "recall_score(Y_test,y_pred)"
      ],
      "metadata": {
        "id": "I7U-NbGhvtad",
        "colab": {
          "base_uri": "https://localhost:8080/"
        },
        "outputId": "ffb98825-08e2-4ca0-ab02-bd079d3a3b15"
      },
      "execution_count": 16,
      "outputs": [
        {
          "output_type": "execute_result",
          "data": {
            "text/plain": [
              "0.5993485342019544"
            ]
          },
          "metadata": {},
          "execution_count": 16
        }
      ]
    },
    {
      "cell_type": "code",
      "source": [
        "precision_score(Y_test,y_pred)"
      ],
      "metadata": {
        "colab": {
          "base_uri": "https://localhost:8080/"
        },
        "id": "4jEyClPMuFxY",
        "outputId": "1140fb58-8c4b-415a-a8ce-a1588fb273f8"
      },
      "execution_count": 17,
      "outputs": [
        {
          "output_type": "execute_result",
          "data": {
            "text/plain": [
              "0.34980988593155893"
            ]
          },
          "metadata": {},
          "execution_count": 17
        }
      ]
    },
    {
      "cell_type": "markdown",
      "source": [
        "#Model Optimazitation "
      ],
      "metadata": {
        "id": "gKOYtLahuLp9"
      }
    },
    {
      "cell_type": "markdown",
      "source": [
        "Tuning Hyperparameters\n",
        "1. Kernel: linear, poly, rbf, sigmoid\n",
        "2. Regularization (C)\n",
        "3. Gamma:\n",
        "4. probability=True"
      ],
      "metadata": {
        "id": "zhW0yTcM3JST"
      }
    },
    {
      "cell_type": "code",
      "source": [
        "#param_grid = {'kernel': ['linear', 'poly', 'rbf', 'sigmoid'],\n",
        "#             'C': [0.0001, 0.001, 0.01, 0.1, 1, 10, 100]}\n",
        "\n",
        "param_grid = {'C': [0.0001, 0.001, 0.01, 0.1, 1, 10, 100]}"
      ],
      "metadata": {
        "id": "U31PnescuRUA"
      },
      "execution_count": 18,
      "outputs": []
    },
    {
      "cell_type": "code",
      "source": [
        "grid_search = GridSearchCV(clf, param_grid, scoring='recall')"
      ],
      "metadata": {
        "id": "vZT5vbn8ve1z"
      },
      "execution_count": 19,
      "outputs": []
    },
    {
      "cell_type": "code",
      "source": [
        "grid_result = grid_search.fit(X_train, Y_train)\n",
        "\n",
        "print(f'Best result: {grid_result.best_score_} for {grid_result.best_params_}')"
      ],
      "metadata": {
        "id": "YFF4lQ0ivmHB"
      },
      "execution_count": null,
      "outputs": []
    },
    {
      "cell_type": "code",
      "source": [
        "#Import scikit-learn metrics module for accuracy calculation\n",
        "from sklearn import metrics\n",
        "\n",
        "# Model Accuracy: how often is the classifier correct?\n",
        "print(\"Accuracy:\",metrics.accuracy_score(y_test, y_pred))"
      ],
      "metadata": {
        "id": "hRylwnfb3D7x"
      },
      "execution_count": null,
      "outputs": []
    },
    {
      "cell_type": "code",
      "source": [
        "fig, ax = plt.subplots()\n",
        "sns.heatmap(confusion_matrix(Y_test, y_pred, normalize='true'), annot=True, ax=ax)"
      ],
      "metadata": {
        "id": "cIfPGdVSxaqE"
      },
      "execution_count": null,
      "outputs": []
    },
    {
      "cell_type": "markdown",
      "source": [
        "After we have found the best model, we apply it to all loan applicants to see the probability of default of each.."
      ],
      "metadata": {
        "id": "AKwVjzdVy3e5"
      }
    },
    {
      "cell_type": "code",
      "source": [
        "df[\"PD\"] = lr2.predict_proba(X)[:,1]\n",
        "df[[\"loan_applicant_id\", \"PD\"]].head(10)"
      ],
      "metadata": {
        "id": "zOoaa4NEy2Q9"
      },
      "execution_count": null,
      "outputs": []
    },
    {
      "cell_type": "markdown",
      "source": [
        "#RFE"
      ],
      "metadata": {
        "id": "raeEieYt3mNN"
      }
    },
    {
      "cell_type": "code",
      "source": [
        "from sklearn.linear_model import LogisticRegression\n",
        "from sklearn.feature_selection import RFE\n",
        "\n",
        "#logreg=LogisticRegression()\n",
        "\n",
        "sup_Vector=svm.SVC()\n",
        "\n",
        "rfe=RFE(sup_Vector)\n",
        "\n",
        "rfe=rfe.fit(X_train,Y_train.values.ravel())"
      ],
      "metadata": {
        "id": "zz6qz0fU3nU9"
      },
      "execution_count": null,
      "outputs": []
    },
    {
      "cell_type": "code",
      "source": [
        "rfe.support_\n",
        "rfe.ranking_\n",
        "\n",
        "data_X1 = pd.DataFrame({\n",
        " \"Feature\": smote_X.columns,\n",
        " \"Importance\": rfe.ranking_},)\n",
        "data_X1.sort_values(by=[\"Importance\"])"
      ],
      "metadata": {
        "id": "hCrl2nAz3qhn"
      },
      "execution_count": null,
      "outputs": []
    },
    {
      "cell_type": "code",
      "source": [
        "from sklearn.metrics import r2_score, explained_variance_score, confusion_matrix, accuracy_score, classification_report, log_loss\n",
        "\n",
        "# running the model\n",
        "clf = GradientBoostingClassifier(n_estimators=100, learning_rate=1.0, max_depth=1, random_state=0).fit(X_train, Y_train)\n",
        "y_pred = clf.predict(X_test)\n",
        "print('Score', clf.score(X_train,Y_train))\n",
        "\n",
        "pred_proba_t = clf.predict_proba(X_test)\n",
        "log_loss = log_loss(Y_train, pred_proba_t)\n",
        "log_loss\n",
        "\n",
        "\n",
        "print('Log Loss', log_loss)"
      ],
      "metadata": {
        "id": "cUF6ujB-tgDc"
      },
      "execution_count": null,
      "outputs": []
    }
  ]
}